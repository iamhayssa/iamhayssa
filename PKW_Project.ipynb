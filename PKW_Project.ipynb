{
  "nbformat": 4,
  "nbformat_minor": 0,
  "metadata": {
    "colab": {
      "name": "PKW_Project",
      "provenance": [],
      "collapsed_sections": [
        "1NeJp0YUQZFW"
      ],
      "mount_file_id": "1bRRhCVU2awmqkFSWv5i0kHEP45CussMh",
      "authorship_tag": "ABX9TyPeiVPWRTYugwaXUJ3eC59h"
    },
    "kernelspec": {
      "name": "python3",
      "display_name": "Python 3"
    },
    "language_info": {
      "name": "python"
    }
  },
  "cells": [
    {
      "cell_type": "markdown",
      "metadata": {
        "id": "1NeJp0YUQZFW"
      },
      "source": [
        "# **Intent**\n",
        "The analysis below is my first attempt to learn how to use python for data analysis. The project is based on an official dataset of the fleet of PKWs (Personenkraftwagen or, in english, passenger cars) per automaker in Germany between 01.01.2016 and 01.01.2020 by the Statistik des Kfz - und Anhängerbestandes of the German government. The original database can be accessed [here](https://www.govdata.de/daten/-/details/kfz-bestand-pkw-bestand-autoherstellerfirma-deutschland-stichtage-01-07-bis-2000-01-01-ab-2001).\n",
        "\n",
        "By definition, PKWs are vehicles with at least two axles, their own power unit, and usually, four wheels, which are primarily intended for passenger transport. The majority of passenger cars are road vehicles used in public road transport. On 01.01.2020, there were over 46 million passenger cars in Germany, a ratio of 0.56 vehicles per person. \n",
        "\n"
      ]
    },
    {
      "cell_type": "markdown",
      "metadata": {
        "id": "uqsZAd02-VCn"
      },
      "source": [
        "# **1.0 Visualize Dataset**\n",
        "First of all, it is important to check the dataset's attributes in order to identify the necessity for additional configuration. Here, because the dataset is small and very simple, there was no need for major edits. Only a couple of columns and rows were renamed for design reasons. "
      ]
    },
    {
      "cell_type": "code",
      "metadata": {
        "id": "kfYo4Zy-9xal"
      },
      "source": [
        "#Import Libraries\n",
        "import pandas as pd\n",
        "import matplotlib.pyplot as plt\n",
        "plt.style.use(\"ggplot\")"
      ],
      "execution_count": null,
      "outputs": []
    },
    {
      "cell_type": "code",
      "metadata": {
        "id": "tiYzlyjQ-C76",
        "colab": {
          "base_uri": "https://localhost:8080/"
        },
        "outputId": "262e42d7-2f31-4de2-feee-6aa6753c2cb8"
      },
      "source": [
        "#Define DataFrame\n",
        "df = pd.read_csv(\"/content/drive/MyDrive/Datasets/PKW_DE.csv\", sep=\";\", index_col='Unnamed: 0')\n",
        "print(df)"
      ],
      "execution_count": null,
      "outputs": [
        {
          "output_type": "stream",
          "name": "stdout",
          "text": [
            "                                pkw_2016  pkw_2017  ...  pkw_2019  Pkw-pkw_2020\n",
            "Audi                             3091534   3172833  ...   3242547       3250452\n",
            "BMW                              3451426   3555140  ...   3726989       3817513\n",
            "Chevrolet (Daewoo)                244448    230447  ...    198631        179906\n",
            "Citroen                           801251    800188  ...    794016        776967\n",
            "Fiat                             1511988   1510958  ...   1528410       1552547\n",
            "Ford                             3362452   3390105  ...   3451829       3508554\n",
            "Honda                             480328    473815  ...    449531        431777\n",
            "Hyndai                            935992   1025070  ...   1188782       1273164\n",
            "Kia Motor                         554926    595071  ...    668219        705941\n",
            "Mazda                             848268    849653  ...    858686        858428\n",
            "Daimler-Chrysler/Merzedes-Benz   4458845   4575346  ...   4770915       4875512\n",
            "Mitsubishi                        375084    388635  ...    432920        460790\n",
            "Nissan                            839801    856090  ...    866813        855257\n",
            "Opel/GM                          4718553   4641556  ...   4496703       4393637\n",
            "Peugeot                          1200628   1169212  ...   1118965       1083587\n",
            "Renault                          2212098   2234815  ...   2327719       2375898\n",
            "Seat                              949663   1008058  ...   1154612       1241750\n",
            "Skoda                            1760728   1893636  ...   2169706       2297729\n",
            "Suzuki                            435088    443283  ...    473411        487147\n",
            "Toyota                           1362557   1350218  ...   1351709       1349764\n",
            "Volkswagen                       9740233   9886580  ...  10038671      10087817\n",
            "Volvo                             453711    464644  ...    484123        505029\n",
            "\n",
            "[22 rows x 5 columns]\n"
          ]
        }
      ]
    },
    {
      "cell_type": "code",
      "metadata": {
        "id": "afZcIgvo-eI3",
        "colab": {
          "base_uri": "https://localhost:8080/",
          "height": 203
        },
        "outputId": "9200cbbf-5516-421a-9e1e-b5b21b1bc120"
      },
      "source": [
        "#Visualize Head\n",
        "df.head()"
      ],
      "execution_count": null,
      "outputs": [
        {
          "output_type": "execute_result",
          "data": {
            "text/html": [
              "<div>\n",
              "<style scoped>\n",
              "    .dataframe tbody tr th:only-of-type {\n",
              "        vertical-align: middle;\n",
              "    }\n",
              "\n",
              "    .dataframe tbody tr th {\n",
              "        vertical-align: top;\n",
              "    }\n",
              "\n",
              "    .dataframe thead th {\n",
              "        text-align: right;\n",
              "    }\n",
              "</style>\n",
              "<table border=\"1\" class=\"dataframe\">\n",
              "  <thead>\n",
              "    <tr style=\"text-align: right;\">\n",
              "      <th></th>\n",
              "      <th>pkw_2016</th>\n",
              "      <th>pkw_2017</th>\n",
              "      <th>pkw_2018</th>\n",
              "      <th>pkw_2019</th>\n",
              "      <th>Pkw-pkw_2020</th>\n",
              "    </tr>\n",
              "  </thead>\n",
              "  <tbody>\n",
              "    <tr>\n",
              "      <th>Audi</th>\n",
              "      <td>3091534</td>\n",
              "      <td>3172833</td>\n",
              "      <td>3223732</td>\n",
              "      <td>3242547</td>\n",
              "      <td>3250452</td>\n",
              "    </tr>\n",
              "    <tr>\n",
              "      <th>BMW</th>\n",
              "      <td>3451426</td>\n",
              "      <td>3555140</td>\n",
              "      <td>3637688</td>\n",
              "      <td>3726989</td>\n",
              "      <td>3817513</td>\n",
              "    </tr>\n",
              "    <tr>\n",
              "      <th>Chevrolet (Daewoo)</th>\n",
              "      <td>244448</td>\n",
              "      <td>230447</td>\n",
              "      <td>214821</td>\n",
              "      <td>198631</td>\n",
              "      <td>179906</td>\n",
              "    </tr>\n",
              "    <tr>\n",
              "      <th>Citroen</th>\n",
              "      <td>801251</td>\n",
              "      <td>800188</td>\n",
              "      <td>797725</td>\n",
              "      <td>794016</td>\n",
              "      <td>776967</td>\n",
              "    </tr>\n",
              "    <tr>\n",
              "      <th>Fiat</th>\n",
              "      <td>1511988</td>\n",
              "      <td>1510958</td>\n",
              "      <td>1514178</td>\n",
              "      <td>1528410</td>\n",
              "      <td>1552547</td>\n",
              "    </tr>\n",
              "  </tbody>\n",
              "</table>\n",
              "</div>"
            ],
            "text/plain": [
              "                    pkw_2016  pkw_2017  pkw_2018  pkw_2019  Pkw-pkw_2020\n",
              "Audi                 3091534   3172833   3223732   3242547       3250452\n",
              "BMW                  3451426   3555140   3637688   3726989       3817513\n",
              "Chevrolet (Daewoo)    244448    230447    214821    198631        179906\n",
              "Citroen               801251    800188    797725    794016        776967\n",
              "Fiat                 1511988   1510958   1514178   1528410       1552547"
            ]
          },
          "metadata": {},
          "execution_count": 48
        }
      ]
    },
    {
      "cell_type": "code",
      "metadata": {
        "id": "wBMkaq8BCckg",
        "colab": {
          "base_uri": "https://localhost:8080/",
          "height": 203
        },
        "outputId": "9dab2752-fde1-4c9f-ffdf-bd45282d233a"
      },
      "source": [
        "#Visualize Tail\n",
        "df.tail()"
      ],
      "execution_count": null,
      "outputs": [
        {
          "output_type": "execute_result",
          "data": {
            "text/html": [
              "<div>\n",
              "<style scoped>\n",
              "    .dataframe tbody tr th:only-of-type {\n",
              "        vertical-align: middle;\n",
              "    }\n",
              "\n",
              "    .dataframe tbody tr th {\n",
              "        vertical-align: top;\n",
              "    }\n",
              "\n",
              "    .dataframe thead th {\n",
              "        text-align: right;\n",
              "    }\n",
              "</style>\n",
              "<table border=\"1\" class=\"dataframe\">\n",
              "  <thead>\n",
              "    <tr style=\"text-align: right;\">\n",
              "      <th></th>\n",
              "      <th>pkw_2016</th>\n",
              "      <th>pkw_2017</th>\n",
              "      <th>pkw_2018</th>\n",
              "      <th>pkw_2019</th>\n",
              "      <th>Pkw-pkw_2020</th>\n",
              "    </tr>\n",
              "  </thead>\n",
              "  <tbody>\n",
              "    <tr>\n",
              "      <th>Skoda</th>\n",
              "      <td>1760728</td>\n",
              "      <td>1893636</td>\n",
              "      <td>2026295</td>\n",
              "      <td>2169706</td>\n",
              "      <td>2297729</td>\n",
              "    </tr>\n",
              "    <tr>\n",
              "      <th>Suzuki</th>\n",
              "      <td>435088</td>\n",
              "      <td>443283</td>\n",
              "      <td>458220</td>\n",
              "      <td>473411</td>\n",
              "      <td>487147</td>\n",
              "    </tr>\n",
              "    <tr>\n",
              "      <th>Toyota</th>\n",
              "      <td>1362557</td>\n",
              "      <td>1350218</td>\n",
              "      <td>1349778</td>\n",
              "      <td>1351709</td>\n",
              "      <td>1349764</td>\n",
              "    </tr>\n",
              "    <tr>\n",
              "      <th>Volkswagen</th>\n",
              "      <td>9740233</td>\n",
              "      <td>9886580</td>\n",
              "      <td>9981469</td>\n",
              "      <td>10038671</td>\n",
              "      <td>10087817</td>\n",
              "    </tr>\n",
              "    <tr>\n",
              "      <th>Volvo</th>\n",
              "      <td>453711</td>\n",
              "      <td>464644</td>\n",
              "      <td>472328</td>\n",
              "      <td>484123</td>\n",
              "      <td>505029</td>\n",
              "    </tr>\n",
              "  </tbody>\n",
              "</table>\n",
              "</div>"
            ],
            "text/plain": [
              "            pkw_2016  pkw_2017  pkw_2018  pkw_2019  Pkw-pkw_2020\n",
              "Skoda        1760728   1893636   2026295   2169706       2297729\n",
              "Suzuki        435088    443283    458220    473411        487147\n",
              "Toyota       1362557   1350218   1349778   1351709       1349764\n",
              "Volkswagen   9740233   9886580   9981469  10038671      10087817\n",
              "Volvo         453711    464644    472328    484123        505029"
            ]
          },
          "metadata": {},
          "execution_count": 49
        }
      ]
    },
    {
      "cell_type": "code",
      "metadata": {
        "id": "nSHPfNEfBtdo",
        "colab": {
          "base_uri": "https://localhost:8080/"
        },
        "outputId": "3675f5fb-9224-4b3b-bebd-55b9d8b30c05"
      },
      "source": [
        "#Check Quantity of Lines and Columns\n",
        "df.shape"
      ],
      "execution_count": null,
      "outputs": [
        {
          "output_type": "execute_result",
          "data": {
            "text/plain": [
              "(22, 5)"
            ]
          },
          "metadata": {},
          "execution_count": 50
        }
      ]
    },
    {
      "cell_type": "code",
      "metadata": {
        "id": "CyHCDWa2Bjnx",
        "colab": {
          "base_uri": "https://localhost:8080/"
        },
        "outputId": "c3a18a63-45b2-49d0-ae40-c9a254fe3c92"
      },
      "source": [
        "#Verify Type of Data\n",
        "df.dtypes"
      ],
      "execution_count": null,
      "outputs": [
        {
          "output_type": "execute_result",
          "data": {
            "text/plain": [
              "pkw_2016        int64\n",
              "pkw_2017        int64\n",
              "pkw_2018        int64\n",
              "pkw_2019        int64\n",
              "Pkw-pkw_2020    int64\n",
              "dtype: object"
            ]
          },
          "metadata": {},
          "execution_count": 51
        }
      ]
    },
    {
      "cell_type": "code",
      "metadata": {
        "id": "rukJcPpzQo5s",
        "colab": {
          "base_uri": "https://localhost:8080/"
        },
        "outputId": "ac38a65a-cfe2-4c16-9a6f-6f6aca3b4fab"
      },
      "source": [
        "#Verify Existence of Null Values\n",
        "df.isnull().sum()"
      ],
      "execution_count": null,
      "outputs": [
        {
          "output_type": "execute_result",
          "data": {
            "text/plain": [
              "pkw_2016        0\n",
              "pkw_2017        0\n",
              "pkw_2018        0\n",
              "pkw_2019        0\n",
              "Pkw-pkw_2020    0\n",
              "dtype: int64"
            ]
          },
          "metadata": {},
          "execution_count": 52
        }
      ]
    },
    {
      "cell_type": "markdown",
      "metadata": {
        "id": "ZBg9asecXuQR"
      },
      "source": [
        "# **1.1 Edit Dataset**"
      ]
    },
    {
      "cell_type": "code",
      "metadata": {
        "id": "CWfxnIlB_K-B"
      },
      "source": [
        "#Rename Column\n",
        "df = df.rename(columns={\"Pkw-pkw_2020\":\"pkw_2020\"})"
      ],
      "execution_count": null,
      "outputs": []
    },
    {
      "cell_type": "code",
      "metadata": {
        "id": "DeuY5M-_Z5MA"
      },
      "source": [
        "#Rename Cell\n",
        "df = df.rename(index={\"Daimler-Chrysler/Merzedes-Benz\":\"Daimler\"})"
      ],
      "execution_count": null,
      "outputs": []
    },
    {
      "cell_type": "code",
      "metadata": {
        "id": "bHqA6FZRaZvM"
      },
      "source": [
        "df = df.rename(index={\"Chevrolet (Daewoo)\":\"Chevrolet\"})"
      ],
      "execution_count": null,
      "outputs": []
    },
    {
      "cell_type": "markdown",
      "metadata": {
        "id": "sfjshKtZHa8h"
      },
      "source": [
        "# **1.2 Data Extraction**"
      ]
    },
    {
      "cell_type": "code",
      "metadata": {
        "colab": {
          "base_uri": "https://localhost:8080/"
        },
        "id": "LKY_8sZ7d1a8",
        "outputId": "41627c0f-5651-4a5d-d335-d286c69c9378"
      },
      "source": [
        "#General Statistics of 2020\n",
        "df[\"pkw_2020\"].describe()"
      ],
      "execution_count": null,
      "outputs": [
        {
          "output_type": "execute_result",
          "data": {
            "text/plain": [
              "count    2.200000e+01\n",
              "mean     2.107689e+06\n",
              "std      2.262988e+06\n",
              "min      1.799060e+05\n",
              "25%      7.236975e+05\n",
              "50%      1.257457e+06\n",
              "75%      3.031814e+06\n",
              "max      1.008782e+07\n",
              "Name: pkw_2020, dtype: float64"
            ]
          },
          "metadata": {},
          "execution_count": 56
        }
      ]
    },
    {
      "cell_type": "code",
      "metadata": {
        "colab": {
          "base_uri": "https://localhost:8080/"
        },
        "id": "Cdfw1gvyTNQy",
        "outputId": "c0e8c4a3-db26-4e1b-a47b-5770fdb69d7d"
      },
      "source": [
        "#Total Number of Passenger Vehicles in 2016\n",
        "gt2016 = df[\"pkw_2016\"].sum()\n",
        "print(gt2016)"
      ],
      "execution_count": null,
      "outputs": [
        {
          "output_type": "stream",
          "name": "stdout",
          "text": [
            "43789602\n"
          ]
        }
      ]
    },
    {
      "cell_type": "code",
      "metadata": {
        "colab": {
          "base_uri": "https://localhost:8080/"
        },
        "id": "I67l_H42OBwu",
        "outputId": "255cecff-5d89-4c2e-e499-b9d18d5312a9"
      },
      "source": [
        "#Quantity of Passanger Vehicles Per Person in 2016\n",
        "pop = 83517045\n",
        "vpp16 = gt2016 / pop\n",
        "vpp16.round(2)"
      ],
      "execution_count": null,
      "outputs": [
        {
          "output_type": "execute_result",
          "data": {
            "text/plain": [
              "0.52"
            ]
          },
          "metadata": {},
          "execution_count": 111
        }
      ]
    },
    {
      "cell_type": "code",
      "metadata": {
        "colab": {
          "base_uri": "https://localhost:8080/"
        },
        "id": "EbBVSAkN8G46",
        "outputId": "fc65256f-ee95-440b-b40f-279e01dbea4b"
      },
      "source": [
        "#Total Number of Passenger Vehicles in 2020\n",
        "gt2020 = df[\"pkw_2020\"].sum()\n",
        "print(gt2020)"
      ],
      "execution_count": null,
      "outputs": [
        {
          "output_type": "stream",
          "name": "stdout",
          "text": [
            "46369166\n"
          ]
        }
      ]
    },
    {
      "cell_type": "code",
      "metadata": {
        "colab": {
          "base_uri": "https://localhost:8080/"
        },
        "id": "eUDe_rrnJgfb",
        "outputId": "ffa54956-22f6-4fdd-a2ee-65fd38133fdf"
      },
      "source": [
        "#Quantity of Passanger Vehicles Per Person in 2020\n",
        "vpp20 = gt2020 / pop\n",
        "vpp20.round(2)"
      ],
      "execution_count": null,
      "outputs": [
        {
          "output_type": "execute_result",
          "data": {
            "text/plain": [
              "0.56"
            ]
          },
          "metadata": {},
          "execution_count": 109
        }
      ]
    },
    {
      "cell_type": "code",
      "metadata": {
        "id": "xFr-uD3zEj3h",
        "colab": {
          "base_uri": "https://localhost:8080/"
        },
        "outputId": "1831f4bf-e949-4453-8933-0e12bf98c911"
      },
      "source": [
        "#Ratio of Total Quantity of Passenger Vehicles Per Automaker in 2020\n",
        "ratio20 = df[\"pkw_2020\"] / gt2020 * 100\n",
        "df.groupby(df.index)[\"ratio20\"].sum().sort_values(ascending=False)"
      ],
      "execution_count": null,
      "outputs": [
        {
          "output_type": "execute_result",
          "data": {
            "text/plain": [
              "Volkswagen    21.755442\n",
              "Daimler       10.514556\n",
              "Opel/GM        9.475342\n",
              "BMW            8.232870\n",
              "Ford           7.566567\n",
              "Audi           7.009943\n",
              "Renault        5.123875\n",
              "Skoda          4.955295\n",
              "Fiat           3.348231\n",
              "Toyota         2.910909\n",
              "Hyndai         2.745713\n",
              "Seat           2.677965\n",
              "Peugeot        2.336870\n",
              "Mazda          1.851291\n",
              "Nissan         1.844452\n",
              "Citroen        1.675611\n",
              "Kia Motor      1.522436\n",
              "Volvo          1.089148\n",
              "Suzuki         1.050584\n",
              "Mitsubishi     0.993742\n",
              "Honda          0.931173\n",
              "Chevrolet      0.387986\n",
              "Name: ratio20, dtype: float64"
            ]
          },
          "metadata": {},
          "execution_count": 71
        }
      ]
    },
    {
      "cell_type": "code",
      "metadata": {
        "colab": {
          "base_uri": "https://localhost:8080/"
        },
        "id": "YgUF2pKTdO-a",
        "outputId": "6e940a19-1f5e-4574-a301-3189d132bcaa"
      },
      "source": [
        "#Verify If The Sum of Ratios is 100%\n",
        "share20 = df[\"ratio20\"].sum()\n",
        "print(share20)"
      ],
      "execution_count": null,
      "outputs": [
        {
          "output_type": "stream",
          "name": "stdout",
          "text": [
            "100.0\n"
          ]
        }
      ]
    },
    {
      "cell_type": "code",
      "metadata": {
        "colab": {
          "base_uri": "https://localhost:8080/"
        },
        "id": "q33XBgVVZf9T",
        "outputId": "fc784da2-264c-4040-8b88-f950e7162d80"
      },
      "source": [
        "#Herfindahl-Hirschmann Index in 2020\n",
        "hhi20 = (df[\"ratio20\"]**2).sum()\n",
        "print(hhi20)"
      ],
      "execution_count": null,
      "outputs": [
        {
          "output_type": "stream",
          "name": "stdout",
          "text": [
            "954.7239796265768\n"
          ]
        }
      ]
    },
    {
      "cell_type": "code",
      "metadata": {
        "id": "EryAc98wHitd"
      },
      "source": [
        "#Create Variable With Total Quantity of Passenger Vehicles Per Automaker \n",
        "total = df[\"pkw_2016\"] + df[\"pkw_2017\"] + df[\"pkw_2018\"] + df[\"pkw_2019\"] + df[\"pkw_2020\"] "
      ],
      "execution_count": null,
      "outputs": []
    },
    {
      "cell_type": "code",
      "metadata": {
        "id": "HFqK_wvOLcDg",
        "colab": {
          "base_uri": "https://localhost:8080/"
        },
        "outputId": "81e2a265-1a2a-44c5-e48c-abae783c52ad"
      },
      "source": [
        "#Create Column With Average Quantity of Passenger Vehicles Per Automaker\n",
        "average = total / 5\n",
        "df[\"average\"] = average\n",
        "print(df)"
      ],
      "execution_count": null,
      "outputs": [
        {
          "output_type": "stream",
          "name": "stdout",
          "text": [
            "            pkw_2016  pkw_2017  pkw_2018  pkw_2019  pkw_2020    average\n",
            "Audi         3091534   3172833   3223732   3242547   3250452  3196219.6\n",
            "BMW          3451426   3555140   3637688   3726989   3817513  3637751.2\n",
            "Chevrolet     244448    230447    214821    198631    179906   213650.6\n",
            "Citroen       801251    800188    797725    794016    776967   794029.4\n",
            "Fiat         1511988   1510958   1514178   1528410   1552547  1523616.2\n",
            "Ford         3362452   3390105   3419000   3451829   3508554  3426388.0\n",
            "Honda         480328    473815    462806    449531    431777   459651.4\n",
            "Hyndai        935992   1025070   1107993   1188782   1273164  1106200.2\n",
            "Kia Motor     554926    595071    631017    668219    705941   631034.8\n",
            "Mazda         848268    849653    852747    858686    858428   853556.4\n",
            "Daimler      4458845   4575346   4680507   4770915   4875512  4672225.0\n",
            "Mitsubishi    375084    388635    408484    432920    460790   413182.6\n",
            "Nissan        839801    856090    869267    866813    855257   857445.6\n",
            "Opel/GM      4718553   4641556   4571820   4496703   4393637  4564453.8\n",
            "Peugeot      1200628   1169212   1150063   1118965   1083587  1144491.0\n",
            "Renault      2212098   2234815   2278265   2327719   2375898  2285759.0\n",
            "Seat          949663   1008058   1075540   1154612   1241750  1085924.6\n",
            "Skoda        1760728   1893636   2026295   2169706   2297729  2029618.8\n",
            "Suzuki        435088    443283    458220    473411    487147   459429.8\n",
            "Toyota       1362557   1350218   1349778   1351709   1349764  1352805.2\n",
            "Volkswagen   9740233   9886580   9981469  10038671  10087817  9946954.0\n",
            "Volvo         453711    464644    472328    484123    505029   475967.0\n"
          ]
        }
      ]
    },
    {
      "cell_type": "code",
      "metadata": {
        "id": "nEQAdj5RQZy9",
        "colab": {
          "base_uri": "https://localhost:8080/"
        },
        "outputId": "0169398b-05ee-455d-daac-6c04adccd553"
      },
      "source": [
        "#Most Favorite Automakers in 2016\n",
        "df.groupby(df.index)[\"pkw_2016\"].sum().sort_values(ascending=False).head(5)"
      ],
      "execution_count": null,
      "outputs": [
        {
          "output_type": "execute_result",
          "data": {
            "text/plain": [
              "Volkswagen    9740233\n",
              "Opel/GM       4718553\n",
              "Daimler       4458845\n",
              "BMW           3451426\n",
              "Ford          3362452\n",
              "Name: pkw_2016, dtype: int64"
            ]
          },
          "metadata": {},
          "execution_count": 86
        }
      ]
    },
    {
      "cell_type": "code",
      "metadata": {
        "id": "p1FqOd6gyLXQ",
        "colab": {
          "base_uri": "https://localhost:8080/"
        },
        "outputId": "7a2fdd7c-4a5d-4881-c1e8-2e95451d5426"
      },
      "source": [
        "#Most Favorite Automakers in 2020\n",
        "df.groupby(df.index)[\"pkw_2020\"].sum().sort_values(ascending=False).head(5)"
      ],
      "execution_count": null,
      "outputs": [
        {
          "output_type": "execute_result",
          "data": {
            "text/plain": [
              "Volkswagen    10087817\n",
              "Daimler        4875512\n",
              "Opel/GM        4393637\n",
              "BMW            3817513\n",
              "Ford           3508554\n",
              "Name: pkw_2020, dtype: int64"
            ]
          },
          "metadata": {},
          "execution_count": 31
        }
      ]
    },
    {
      "cell_type": "code",
      "metadata": {
        "id": "bldprxnZ_CzC",
        "colab": {
          "base_uri": "https://localhost:8080/"
        },
        "outputId": "83412fcf-7937-4852-a165-12eb1f0cf9c5"
      },
      "source": [
        "#Least Favorite Automakers in 2016\n",
        "df.groupby(df.index)[\"pkw_2016\"].sum().sort_values(ascending=False).tail(5)"
      ],
      "execution_count": null,
      "outputs": [
        {
          "output_type": "execute_result",
          "data": {
            "text/plain": [
              "Honda         480328\n",
              "Volvo         453711\n",
              "Suzuki        435088\n",
              "Mitsubishi    375084\n",
              "Chevrolet     244448\n",
              "Name: pkw_2016, dtype: int64"
            ]
          },
          "metadata": {},
          "execution_count": 87
        }
      ]
    },
    {
      "cell_type": "code",
      "metadata": {
        "id": "zBpZk1xx_zkT",
        "colab": {
          "base_uri": "https://localhost:8080/"
        },
        "outputId": "87562ca5-0cd3-4a49-f8ad-c4da5b9becef"
      },
      "source": [
        "#Least Favorite Automakers in 2020\n",
        "df.groupby(df.index)[\"pkw_2020\"].sum().sort_values(ascending=False).tail(5)"
      ],
      "execution_count": null,
      "outputs": [
        {
          "output_type": "execute_result",
          "data": {
            "text/plain": [
              "Volvo         505029\n",
              "Suzuki        487147\n",
              "Mitsubishi    460790\n",
              "Honda         431777\n",
              "Chevrolet     179906\n",
              "Name: pkw_2020, dtype: int64"
            ]
          },
          "metadata": {},
          "execution_count": 33
        }
      ]
    },
    {
      "cell_type": "markdown",
      "metadata": {
        "id": "ARKuIjaJ86Vd"
      },
      "source": [
        "# **1.3 Data Analysis**\n"
      ]
    },
    {
      "cell_type": "markdown",
      "metadata": {
        "id": "QGiE3cDwZx_K"
      },
      "source": [
        "The first graph displays the fleet of vehicles per automaker in the five years covered by the dataset. Volkswagen is the preferred manufacturer among germans, although the number of vehicles from the automaker did not change substantially in the period. Volkswagen is followed by Daimler (which surpassed GM in 2020 when compared to 2016), GM, BMW, and Ford. The least favorite automakers are Volvo, Suzuki, Mitsubishi, Honda, and Chevrolet. It is important to mention that both Chevrolet and Opel were owned by GM until 2017 and by Renault since then, which might impact market distribution, although not substantially. The number of cars remained virtually constant possibly because the dataset covers only a short period and vehicles are durable goods with a long lifetime. "
      ]
    },
    {
      "cell_type": "code",
      "metadata": {
        "colab": {
          "base_uri": "https://localhost:8080/",
          "height": 381
        },
        "id": "q7rLMK-uKHLk",
        "outputId": "1609e97d-200a-46c9-ad88-467bac4f4e15"
      },
      "source": [
        "#Line Graph of Fleet of Passenger Vehicles per Automaker \n",
        "df_new = df[['pkw_2016', 'pkw_2017', 'pkw_2018', 'pkw_2019', 'pkw_2020']].T\n",
        "df_new.plot(title=\"Fleet of Vehicles in Germany (2016/20)\")\n",
        "plt.legend(bbox_to_anchor=(1.05, 1.25))"
      ],
      "execution_count": null,
      "outputs": [
        {
          "output_type": "execute_result",
          "data": {
            "text/plain": [
              "<matplotlib.legend.Legend at 0x7fe47f606050>"
            ]
          },
          "metadata": {},
          "execution_count": 28
        },
        {
          "output_type": "display_data",
          "data": {
            "image/png": "[encoded data removed]",
            "text/plain": [
              "<Figure size 432x288 with 1 Axes>"
            ]
          },
          "metadata": {
            "needs_background": "light"
          }
        }
      ]
    },
    {
      "cell_type": "markdown",
      "metadata": {
        "id": "y9W_5Y2_Y7b2"
      },
      "source": [
        "The two graphs below highlight the discrepancy between the market share of Volkwagen and the other automakers. VW alone is responsible for 21,8% of the market of passenger cars, followed by Daimler (10,5%), GM (9,5%), BMW (8,2%), and Ford (7,6%). It is important to note, however, that VW is not a monopolist. Although VW is responsible for more than 20% of the market, the Herfindahl-Hirschman index is less than 1500, which means the market is still competitive. VW's presence is counterbalanced by dozens of other players and, as a result, the market power is pulverized among these manufacturers.   "
      ]
    },
    {
      "cell_type": "code",
      "metadata": {
        "id": "aMLgYK4xil5d",
        "colab": {
          "base_uri": "https://localhost:8080/",
          "height": 299
        },
        "outputId": "e5aabe16-343d-4e9d-bf90-79aab9786521"
      },
      "source": [
        "#Horizontal Graph of Average Fleet of Passenger Vehicles per Automaker\n",
        "df.groupby(df.index)[\"average\"].sum().sort_values(ascending=True).plot.barh(title=\"Average Fleet of Vehicles in Germany\")\n",
        "plt.xlabel(\"Quantity\")\n",
        "plt.ylabel(\"Automaker\");"
      ],
      "execution_count": null,
      "outputs": [
        {
          "output_type": "display_data",
          "data": {
            "image/png": "[encoded data removed]",
            "text/plain": [
              "<Figure size 432x288 with 1 Axes>"
            ]
          },
          "metadata": {}
        }
      ]
    },
    {
      "cell_type": "code",
      "metadata": {
        "colab": {
          "base_uri": "https://localhost:8080/",
          "height": 423
        },
        "id": "N2T_O7CkHmxL",
        "outputId": "b5e14108-de97-413a-87a3-6dbc49044999"
      },
      "source": [
        "#Pie Chart of Market Share in 2020\n",
        "plt.pie(df[\"pkw_2020\"], labels=df.index, radius=2, autopct='%0.1f%%')\n",
        "plt.show()"
      ],
      "execution_count": null,
      "outputs": [
        {
          "output_type": "display_data",
          "data": {
            "image/png": "[encoded data removed]",
            "text/plain": [
              "<Figure size 432x288 with 1 Axes>"
            ]
          },
          "metadata": {}
        }
      ]
    }
  ]
}